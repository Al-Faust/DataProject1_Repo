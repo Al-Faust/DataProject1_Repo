{
 "cells": [
  {
   "cell_type": "code",
   "execution_count": null,
   "metadata": {},
   "outputs": [],
   "source": [
    "import matplotlib.pyplot as plt\n",
    "import pandas as pd\n",
    "import scipy.stats as st\n",
    "import zipfile\n",
    "import json"
   ]
  },
  {
   "cell_type": "markdown",
   "metadata": {},
   "source": [
    "LOAD DATA"
   ]
  },
  {
   "cell_type": "code",
   "execution_count": null,
   "metadata": {},
   "outputs": [],
   "source": [
    "zf = zipfile.ZipFile('all_data.zip')\n",
    "q1_df = pd.read_csv(zf.open('Q12019.csv'))\n",
    "q2_df = pd.read_csv(zf.open('Q22019.csv'))\n",
    "q3_df = pd.read_csv(zf.open('Q32019.csv'))\n",
    "q4_df = pd.read_csv(zf.open('Q42019.csv'))"
   ]
  },
  {
   "cell_type": "markdown",
   "metadata": {},
   "source": [
    "CLEAN CODE"
   ]
  },
  {
   "cell_type": "code",
   "execution_count": null,
   "metadata": {},
   "outputs": [],
   "source": [
    "# I ran a quick cleaning code.  I used the str() conatins method as it logically makes the most sense to me.  \n",
    "\n",
    "df_cleanQ1 = q1_df[~q1_df.DEST_STATE_NM.str.contains(\"U.S.\")][~q1_df.DEST_STATE_NM.str.contains(\"Rico\")][~q1_df.ORIGIN_STATE_NM.str.contains(\"U.S.\")][~q1_df.ORIGIN_STATE_NM.str.contains(\"Rico\")]\n",
    "\n",
    "# Verifying the cleaning\n",
    "# df_cleanQ1.head()"
   ]
  },
  {
   "cell_type": "code",
   "execution_count": null,
   "metadata": {},
   "outputs": [],
   "source": [
    "#Removing useless column from dataframe\n",
    "Cleanest_DF = df_cleanQ1[['YEAR', \n",
    "                          'QUARTER', \n",
    "                          'ORIGIN', \n",
    "                          'ORIGIN_STATE_ABR', \n",
    "                          'ORIGIN_STATE_NM',\n",
    "                          'DEST', \n",
    "                          'DEST_STATE_ABR', \n",
    "                          'DEST_STATE_NM', \n",
    "                          'PASSENGERS']]\n",
    "\n",
    "#Cleaning up the headers for each column\n",
    "\n",
    "Cleanest_DF = Cleanest_DF.rename(columns={'YEAR': 'Year', \n",
    "                                          'QUARTER': 'Quarter',\n",
    "                                          'ORIGIN': 'Origin',\n",
    "                                          'ORIGIN_STATE_ABR': 'Abreviated State Name', \n",
    "                                          'ORIGIN_STATE_NM': 'State Name', \n",
    "                                          'DEST': 'Destination',\n",
    "                                          'DEST_STATE_NM': 'State Destination',\n",
    "                                          'DEST_STATE_ABR': 'Abreviated State Destination', \n",
    "                                          'PASSENGERS': 'Passengers'})\n",
    "Cleanest_DF.head()"
   ]
  },
  {
   "cell_type": "markdown",
   "metadata": {},
   "source": [
    "GET MOST POPULAR STARTING AND ENDING STATES FOR Q1"
   ]
  },
  {
   "cell_type": "code",
   "execution_count": null,
   "metadata": {},
   "outputs": [],
   "source": [
    "#destination state\n",
    "q1_count_pass_dest = Cleanest_DF.groupby('State Destination').count()['Passengers']\n",
    "q1_pass_dest_state = pd.DataFrame({\n",
    "    'Q1 Total Passengers': q1_count_pass_dest\n",
    "})\n",
    "\n",
    "#origin state\n",
    "q1_count_pass_state = Cleanest_DF.groupby('State Name').count()['Passengers']\n",
    "q1_pass_state = pd.DataFrame({\n",
    "    'Q1 Total Passengers': q1_count_pass_state\n",
    "})"
   ]
  },
  {
   "cell_type": "code",
   "execution_count": null,
   "metadata": {},
   "outputs": [],
   "source": [
    "#origin state\n",
    "#get q1 most passengers by state\n",
    "q1_pass_state.nlargest(5, 'Q1 Total Passengers')\n",
    "\n",
    "#reset index to get state name\n",
    "q1_pass_state = q1_pass_state.reset_index()\n",
    "\n",
    "#get top5 states based on ['Passenger']\n",
    "q1_pass_state_top5 = q1_pass_state.nlargest(5, 'Q1 Total Passengers')"
   ]
  },
  {
   "cell_type": "code",
   "execution_count": null,
   "metadata": {},
   "outputs": [],
   "source": [
    "q1_pass_state_top5"
   ]
  },
  {
   "cell_type": "code",
   "execution_count": null,
   "metadata": {},
   "outputs": [],
   "source": [
    "#graph top 5 origin states\n",
    "plt.bar(q1_pass_state_top5['State Name'], q1_pass_state_top5['Q1 Total Passengers'])"
   ]
  },
  {
   "cell_type": "code",
   "execution_count": null,
   "metadata": {},
   "outputs": [],
   "source": [
    "#destination\n",
    "#get q1 most passengers by state\n",
    "q1_pass_dest_state.nlargest(5, 'Q1 Total Passengers')\n",
    "\n",
    "#reset index to get state name\n",
    "q1_pass_dest_state = q1_pass_dest_state.reset_index()\n",
    "\n",
    "#get top5 states based on ['Passenger']\n",
    "q1_pass_dest_state_top5 = q1_pass_dest_state.nlargest(5, 'Q1 Total Passengers')"
   ]
  },
  {
   "cell_type": "code",
   "execution_count": null,
   "metadata": {},
   "outputs": [],
   "source": [
    "q1_pass_dest_state_top5"
   ]
  },
  {
   "cell_type": "code",
   "execution_count": null,
   "metadata": {},
   "outputs": [],
   "source": [
    "#graph top 5 dest states\n",
    "plt.bar(q1_pass_dest_state_top5['State Destination'], q1_pass_dest_state_top5['Q1 Total Passengers'])"
   ]
  },
  {
   "cell_type": "markdown",
   "metadata": {},
   "source": [
    "MOST POPULAR AIRPORTS IN MOST POPULAR STARTING AND ENDING STATES FOR Q1\n",
    "\n",
    "what airport are people flying out of?\n",
    "\n",
    "what airport are people flying into?\n",
    "\n",
    "where are people flying to from the top5 traffic states?\n"
   ]
  },
  {
   "cell_type": "code",
   "execution_count": null,
   "metadata": {},
   "outputs": [],
   "source": [
    "#limit to Cali\n",
    "cali_origin_info = Cleanest_DF[Cleanest_DF[\"State Name\"] == 'California']\n",
    "cali_dest_info = Cleanest_DF[Cleanest_DF[\"State Destination\"] == 'California']\n",
    "cali_target_dest_info = Cleanest_DF[Cleanest_DF[\"State Name\"] == 'California']\n",
    "\n",
    "#destination airports in Cali\n",
    "ca_count_pass_dest = cali_dest_info.groupby('Destination').count()['Passengers']\n",
    "ca_pass_dest = pd.DataFrame({\n",
    "    'Q1 Total Passengers': ca_count_pass_dest\n",
    "})\n",
    "\n",
    "#origin airports in Cali\n",
    "ca_count_pass_origin = cali_origin_info.groupby('Origin').count()['Passengers']\n",
    "ca_pass_origin = pd.DataFrame({\n",
    "    'Q1 Total Passengers': ca_count_pass_origin\n",
    "})\n",
    "\n",
    "#destination for people leaving Cali\n",
    "ca_count_pass_dest_outbound = cali_target_dest_info.groupby('Destination').count()['Passengers']\n",
    "ca_pass_dest_outbound = pd.DataFrame({\n",
    "    'Q1 Total Passengers': ca_count_pass_dest_outbound\n",
    "})"
   ]
  },
  {
   "cell_type": "code",
   "execution_count": null,
   "metadata": {},
   "outputs": [],
   "source": [
    "#origin airport for cali\n",
    "#get q1 most passengers by airport\n",
    "ca_pass_origin.nlargest(5, 'Q1 Total Passengers')\n",
    "\n",
    "#reset index to get airport abbreviation\n",
    "ca_pass_origin = ca_pass_origin.reset_index()\n",
    "\n",
    "#get top5 airports based on ['Passenger']\n",
    "ca_pass_origin_top5 = ca_pass_origin.nlargest(5, 'Q1 Total Passengers')"
   ]
  },
  {
   "cell_type": "code",
   "execution_count": null,
   "metadata": {},
   "outputs": [],
   "source": [
    "#graph top 5 origin airports for Cali\n",
    "plt.bar(ca_pass_origin_top5['Origin'], ca_pass_origin_top5['Q1 Total Passengers'])"
   ]
  },
  {
   "cell_type": "code",
   "execution_count": null,
   "metadata": {},
   "outputs": [],
   "source": [
    "#dest airport for cali\n",
    "#get q1 most passengers by airport\n",
    "ca_pass_dest.nlargest(5, 'Q1 Total Passengers')\n",
    "\n",
    "#reset index to get airport abbreviation\n",
    "ca_pass_dest = ca_pass_dest.reset_index()\n",
    "\n",
    "#get top5 airports based on ['Passenger']\n",
    "ca_pass_dest_top5 = ca_pass_dest.nlargest(5, 'Q1 Total Passengers')"
   ]
  },
  {
   "cell_type": "code",
   "execution_count": null,
   "metadata": {},
   "outputs": [],
   "source": [
    "#graph top 5 destination airports for Cali\n",
    "plt.bar(ca_pass_dest_top5['Destination'], ca_pass_dest_top5['Q1 Total Passengers'])"
   ]
  },
  {
   "cell_type": "code",
   "execution_count": null,
   "metadata": {},
   "outputs": [],
   "source": [
    "#dest airport for people leaving cali\n",
    "#get q1 most passengers by airport\n",
    "ca_pass_dest_outbound.nlargest(5, 'Q1 Total Passengers')\n",
    "\n",
    "#reset index to get airport abbreviation\n",
    "ca_pass_dest_outbound = ca_pass_dest_outbound.reset_index()\n",
    "\n",
    "#get top5 airports based on ['Passenger']\n",
    "ca_pass_dest_outbound_top5 = ca_pass_dest_outbound.nlargest(5, 'Q1 Total Passengers')"
   ]
  },
  {
   "cell_type": "code",
   "execution_count": null,
   "metadata": {},
   "outputs": [],
   "source": [
    "#graph top 5 destiantion airports people leaving Cali\n",
    "plt.bar(ca_pass_dest_outbound_top5['Destination'], ca_pass_dest_outbound_top5['Q1 Total Passengers'])"
   ]
  },
  {
   "cell_type": "code",
   "execution_count": null,
   "metadata": {},
   "outputs": [],
   "source": [
    "#limit to Florida\n",
    "fl_origin_info = Cleanest_DF[Cleanest_DF[\"State Name\"] == 'Florida']\n",
    "fl_dest_info = Cleanest_DF[Cleanest_DF[\"State Destination\"] == 'Florida']\n",
    "fl_target_dest_info = Cleanest_DF[Cleanest_DF[\"State Name\"] == 'Florida']\n",
    "\n",
    "#destination airports in florida\n",
    "fl_count_pass_dest = fl_dest_info.groupby('Destination').count()['Passengers']\n",
    "fl_pass_dest = pd.DataFrame({\n",
    "    'Q1 Total Passengers': fl_count_pass_dest\n",
    "})\n",
    "\n",
    "#origin airports in florida\n",
    "fl_count_pass_origin = fl_origin_info.groupby('Origin').count()['Passengers']\n",
    "fl_pass_origin = pd.DataFrame({\n",
    "    'Q1 Total Passengers': fl_count_pass_origin\n",
    "})\n",
    "\n",
    "#destination for people leaving florida\n",
    "fl_count_pass_dest_outbound = fl_target_dest_info.groupby('Destination').count()['Passengers']\n",
    "fl_pass_dest_outbound = pd.DataFrame({\n",
    "    'Q1 Total Passengers': fl_count_pass_dest_outbound\n",
    "})"
   ]
  },
  {
   "cell_type": "code",
   "execution_count": null,
   "metadata": {},
   "outputs": [],
   "source": [
    "#origin airport for florida\n",
    "#get q1 most passengers by airport\n",
    "fl_pass_origin.nlargest(5, 'Q1 Total Passengers')\n",
    "\n",
    "#reset index to get airport abbreviation\n",
    "fl_pass_origin = fl_pass_origin.reset_index()\n",
    "\n",
    "#get top5 airports based on ['Passenger']\n",
    "fl_pass_origin_top5 = fl_pass_origin.nlargest(5, 'Q1 Total Passengers')"
   ]
  },
  {
   "cell_type": "code",
   "execution_count": null,
   "metadata": {},
   "outputs": [],
   "source": [
    "#graph top 5 origin airports for florida\n",
    "plt.bar(fl_pass_origin_top5['Origin'], fl_pass_origin_top5['Q1 Total Passengers'])"
   ]
  },
  {
   "cell_type": "code",
   "execution_count": null,
   "metadata": {},
   "outputs": [],
   "source": [
    "#dest airport for florida\n",
    "#get q1 most passengers by airport\n",
    "fl_pass_dest.nlargest(5, 'Q1 Total Passengers')\n",
    "\n",
    "#reset index to get airport abbreviation\n",
    "fl_pass_dest = fl_pass_dest.reset_index()\n",
    "\n",
    "#get top5 airports based on ['Passenger']\n",
    "fl_pass_dest_top5 = fl_pass_dest.nlargest(5, 'Q1 Total Passengers')"
   ]
  },
  {
   "cell_type": "code",
   "execution_count": null,
   "metadata": {},
   "outputs": [],
   "source": [
    "#graph top 5 destination airports for florida\n",
    "plt.bar(fl_pass_dest_top5['Destination'], fl_pass_dest_top5['Q1 Total Passengers'])"
   ]
  },
  {
   "cell_type": "code",
   "execution_count": null,
   "metadata": {},
   "outputs": [],
   "source": [
    "#dest airport for people leaving florida\n",
    "#get q1 most passengers by airport\n",
    "fl_pass_dest_outbound.nlargest(5, 'Q1 Total Passengers')\n",
    "\n",
    "#reset index to get airport abbreviation\n",
    "fl_pass_dest_outbound = fl_pass_dest_outbound.reset_index()\n",
    "\n",
    "#get top5 airports based on ['Passenger']\n",
    "fl_pass_dest_outbound_top5 = fl_pass_dest_outbound.nlargest(5, 'Q1 Total Passengers')"
   ]
  },
  {
   "cell_type": "code",
   "execution_count": null,
   "metadata": {},
   "outputs": [],
   "source": [
    "#graph top 5 destiantion airports people leaving florida\n",
    "plt.bar(fl_pass_dest_outbound_top5['Destination'], fl_pass_dest_outbound_top5['Q1 Total Passengers'])"
   ]
  },
  {
   "cell_type": "code",
   "execution_count": null,
   "metadata": {},
   "outputs": [],
   "source": [
    "#limit to texas\n",
    "tx_origin_info = Cleanest_DF[Cleanest_DF[\"State Name\"] == 'Texas']\n",
    "tx_dest_info = Cleanest_DF[Cleanest_DF[\"State Destination\"] == 'Texas']\n",
    "tx_target_dest_info = Cleanest_DF[Cleanest_DF[\"State Name\"] == 'Texas']\n",
    "\n",
    "#destination airports in texas\n",
    "tx_count_pass_dest = tx_dest_info.groupby('Destination').count()['Passengers']\n",
    "tx_pass_dest = pd.DataFrame({\n",
    "    'Q1 Total Passengers': tx_count_pass_dest\n",
    "})\n",
    "\n",
    "#origin airports in texas\n",
    "tx_count_pass_origin = tx_origin_info.groupby('Origin').count()['Passengers']\n",
    "tx_pass_origin = pd.DataFrame({\n",
    "    'Q1 Total Passengers': tx_count_pass_origin\n",
    "})\n",
    "\n",
    "#destination for people leaving texas\n",
    "tx_count_pass_dest_outbound = tx_target_dest_info.groupby('Destination').count()['Passengers']\n",
    "tx_pass_dest_outbound = pd.DataFrame({\n",
    "    'Q1 Total Passengers': tx_count_pass_dest_outbound\n",
    "})"
   ]
  },
  {
   "cell_type": "code",
   "execution_count": null,
   "metadata": {},
   "outputs": [],
   "source": [
    "#origin airport for texas\n",
    "#get q1 most passengers by airport\n",
    "tx_pass_origin.nlargest(5, 'Q1 Total Passengers')\n",
    "\n",
    "#reset index to get airport abbreviation\n",
    "tx_pass_origin = tx_pass_origin.reset_index()\n",
    "\n",
    "#get top5 airports based on ['Passenger']\n",
    "tx_pass_origin_top5 = tx_pass_origin.nlargest(5, 'Q1 Total Passengers')"
   ]
  },
  {
   "cell_type": "code",
   "execution_count": null,
   "metadata": {},
   "outputs": [],
   "source": [
    "#graph top 5 origin airports for texas\n",
    "plt.bar(tx_pass_origin_top5['Origin'], tx_pass_origin_top5['Q1 Total Passengers'])"
   ]
  },
  {
   "cell_type": "code",
   "execution_count": null,
   "metadata": {},
   "outputs": [],
   "source": [
    "#dest airport for texas\n",
    "#get q1 most passengers by airport\n",
    "tx_pass_dest.nlargest(5, 'Q1 Total Passengers')\n",
    "\n",
    "#reset index to get airport abbreviation\n",
    "tx_pass_dest = tx_pass_dest.reset_index()\n",
    "\n",
    "#get top5 airports based on ['Passenger']\n",
    "tx_pass_dest_top5 = tx_pass_dest.nlargest(5, 'Q1 Total Passengers')"
   ]
  },
  {
   "cell_type": "code",
   "execution_count": null,
   "metadata": {},
   "outputs": [],
   "source": [
    "#graph top 5 destination airports for texas\n",
    "plt.bar(tx_pass_dest_top5['Destination'], tx_pass_dest_top5['Q1 Total Passengers'])"
   ]
  },
  {
   "cell_type": "code",
   "execution_count": null,
   "metadata": {},
   "outputs": [],
   "source": [
    "#dest airport for people leaving texas\n",
    "#get q1 most passengers by airport\n",
    "tx_pass_dest_outbound.nlargest(5, 'Q1 Total Passengers')\n",
    "\n",
    "#reset index to get airport abbreviation\n",
    "tx_pass_dest_outbound = tx_pass_dest_outbound.reset_index()\n",
    "\n",
    "#get top5 airports based on ['Passenger']\n",
    "tx_pass_dest_outbound_top5 = tx_pass_dest_outbound.nlargest(5, 'Q1 Total Passengers')"
   ]
  },
  {
   "cell_type": "code",
   "execution_count": null,
   "metadata": {},
   "outputs": [],
   "source": [
    "#graph top 5 destiantion airports people leaving texas\n",
    "plt.bar(tx_pass_dest_outbound_top5['Destination'], tx_pass_dest_outbound_top5['Q1 Total Passengers'])"
   ]
  },
  {
   "cell_type": "code",
   "execution_count": null,
   "metadata": {},
   "outputs": [],
   "source": [
    "#limit to new york\n",
    "ny_origin_info = Cleanest_DF[Cleanest_DF[\"State Name\"] == 'New York']\n",
    "ny_dest_info = Cleanest_DF[Cleanest_DF[\"State Destination\"] == 'New York']\n",
    "ny_target_dest_info = Cleanest_DF[Cleanest_DF[\"State Name\"] == 'New York']\n",
    "\n",
    "#destination airports in new york\n",
    "ny_count_pass_dest = ny_dest_info.groupby('Destination').count()['Passengers']\n",
    "ny_pass_dest = pd.DataFrame({\n",
    "    'Q1 Total Passengers': ny_count_pass_dest\n",
    "})\n",
    "\n",
    "#origin airports in new york\n",
    "ny_count_pass_origin = ny_origin_info.groupby('Origin').count()['Passengers']\n",
    "ny_pass_origin = pd.DataFrame({\n",
    "    'Q1 Total Passengers': ny_count_pass_origin\n",
    "})\n",
    "\n",
    "#destination for people leaving new york\n",
    "ny_count_pass_dest_outbound = ny_target_dest_info.groupby('Destination').count()['Passengers']\n",
    "ny_pass_dest_outbound = pd.DataFrame({\n",
    "    'Q1 Total Passengers': ny_count_pass_dest_outbound\n",
    "})"
   ]
  },
  {
   "cell_type": "code",
   "execution_count": null,
   "metadata": {},
   "outputs": [],
   "source": [
    "#origin airport for new york\n",
    "#get q1 most passengers by airport\n",
    "ny_pass_origin.nlargest(5, 'Q1 Total Passengers')\n",
    "\n",
    "#reset index to get airport abbreviation\n",
    "ny_pass_origin = ny_pass_origin.reset_index()\n",
    "\n",
    "#get top5 airports based on ['Passenger']\n",
    "ny_pass_origin_top5 = ny_pass_origin.nlargest(5, 'Q1 Total Passengers')"
   ]
  },
  {
   "cell_type": "code",
   "execution_count": null,
   "metadata": {},
   "outputs": [],
   "source": [
    "#graph top 5 origin airports for new york\n",
    "plt.bar(ny_pass_origin_top5['Origin'], ny_pass_origin_top5['Q1 Total Passengers'])"
   ]
  },
  {
   "cell_type": "code",
   "execution_count": null,
   "metadata": {},
   "outputs": [],
   "source": [
    "#dest airport for new york\n",
    "#get q1 most passengers by airport\n",
    "ny_pass_dest.nlargest(5, 'Q1 Total Passengers')\n",
    "\n",
    "#reset index to get airport abbreviation\n",
    "ny_pass_dest = ny_pass_dest.reset_index()\n",
    "\n",
    "#get top5 airports based on ['Passenger']\n",
    "ny_pass_dest_top5 = ny_pass_dest.nlargest(5, 'Q1 Total Passengers')"
   ]
  },
  {
   "cell_type": "code",
   "execution_count": null,
   "metadata": {},
   "outputs": [],
   "source": [
    "#graph top 5 destination airports for new york\n",
    "plt.bar(ny_pass_dest_top5['Destination'], ny_pass_dest_top5['Q1 Total Passengers'])"
   ]
  },
  {
   "cell_type": "code",
   "execution_count": null,
   "metadata": {},
   "outputs": [],
   "source": [
    "#dest airport for people leaving new york\n",
    "#get q1 most passengers by airport\n",
    "ny_pass_dest_outbound.nlargest(5, 'Q1 Total Passengers')\n",
    "\n",
    "#reset index to get airport abbreviation\n",
    "ny_pass_dest_outbound = ny_pass_dest_outbound.reset_index()\n",
    "\n",
    "#get top5 airports based on ['Passenger']\n",
    "ny_pass_dest_outbound_top5 = ny_pass_dest_outbound.nlargest(5, 'Q1 Total Passengers')"
   ]
  },
  {
   "cell_type": "code",
   "execution_count": null,
   "metadata": {},
   "outputs": [],
   "source": [
    "#graph top 5 destiantion airports people leaving new york\n",
    "plt.bar(ny_pass_dest_outbound_top5['Destination'], ny_pass_dest_outbound_top5['Q1 Total Passengers'])"
   ]
  },
  {
   "cell_type": "code",
   "execution_count": null,
   "metadata": {},
   "outputs": [],
   "source": [
    "#limit to virginia\n",
    "va_origin_info = Cleanest_DF[Cleanest_DF[\"State Name\"] == 'Virginia']\n",
    "va_dest_info = Cleanest_DF[Cleanest_DF[\"State Destination\"] == 'Virginia']\n",
    "va_target_dest_info = Cleanest_DF[Cleanest_DF[\"State Name\"] == 'Virginia']\n",
    "\n",
    "#destination airports in virginia\n",
    "va_count_pass_dest = va_dest_info.groupby('Destination').count()['Passengers']\n",
    "va_pass_dest = pd.DataFrame({\n",
    "    'Q1 Total Passengers': va_count_pass_dest\n",
    "})\n",
    "\n",
    "#origin airports in virginia\n",
    "va_count_pass_origin = va_origin_info.groupby('Origin').count()['Passengers']\n",
    "va_pass_origin = pd.DataFrame({\n",
    "    'Q1 Total Passengers': va_count_pass_origin\n",
    "})\n",
    "\n",
    "#destination for people leaving virginia\n",
    "va_count_pass_dest_outbound = va_target_dest_info.groupby('Destination').count()['Passengers']\n",
    "va_pass_dest_outbound = pd.DataFrame({\n",
    "    'Q1 Total Passengers': va_count_pass_dest_outbound\n",
    "})"
   ]
  },
  {
   "cell_type": "code",
   "execution_count": null,
   "metadata": {},
   "outputs": [],
   "source": [
    "#origin airport for virginia\n",
    "#get q1 most passengers by airport\n",
    "va_pass_origin.nlargest(5, 'Q1 Total Passengers')\n",
    "\n",
    "#reset index to get airport abbreviation\n",
    "va_pass_origin = va_pass_origin.reset_index()\n",
    "\n",
    "#get top5 airports based on ['Passenger']\n",
    "va_pass_origin_top5 = va_pass_origin.nlargest(5, 'Q1 Total Passengers')"
   ]
  },
  {
   "cell_type": "code",
   "execution_count": null,
   "metadata": {},
   "outputs": [],
   "source": [
    "#graph top 5 origin airports for virginia\n",
    "plt.bar(va_pass_origin_top5['Origin'], va_pass_origin_top5['Q1 Total Passengers'])"
   ]
  },
  {
   "cell_type": "code",
   "execution_count": null,
   "metadata": {},
   "outputs": [],
   "source": [
    "#dest airport for virginia\n",
    "#get q1 most passengers by airport\n",
    "va_pass_dest.nlargest(5, 'Q1 Total Passengers')\n",
    "\n",
    "#reset index to get airport abbreviation\n",
    "va_pass_dest = va_pass_dest.reset_index()\n",
    "\n",
    "#get top5 airports based on ['Passenger']\n",
    "va_pass_dest_top5 = va_pass_dest.nlargest(5, 'Q1 Total Passengers')"
   ]
  },
  {
   "cell_type": "code",
   "execution_count": null,
   "metadata": {},
   "outputs": [],
   "source": [
    "#graph top 5 destination airports for new york\n",
    "plt.bar(va_pass_dest_top5['Destination'], va_pass_dest_top5['Q1 Total Passengers'])"
   ]
  },
  {
   "cell_type": "code",
   "execution_count": null,
   "metadata": {},
   "outputs": [],
   "source": [
    "#dest airport for people leaving virginia\n",
    "#get q1 most passengers by airport\n",
    "va_pass_dest_outbound.nlargest(5, 'Q1 Total Passengers')\n",
    "\n",
    "#reset index to get airport abbreviation\n",
    "va_pass_dest_outbound = va_pass_dest_outbound.reset_index()\n",
    "\n",
    "#get top5 airports based on ['Passenger']\n",
    "va_pass_dest_outbound_top5 = va_pass_dest_outbound.nlargest(5, 'Q1 Total Passengers')"
   ]
  },
  {
   "cell_type": "code",
   "execution_count": null,
   "metadata": {},
   "outputs": [],
   "source": [
    "#graph top 5 destiantion airports people leaving new york\n",
    "plt.bar(ny_pass_dest_outbound_top5['Destination'], ny_pass_dest_outbound_top5['Q1 Total Passengers'])"
   ]
  },
  {
   "cell_type": "code",
   "execution_count": null,
   "metadata": {},
   "outputs": [],
   "source": []
  }
 ],
 "metadata": {
  "kernelspec": {
   "display_name": "Python [conda env:PythonData] *",
   "language": "python",
   "name": "conda-env-PythonData-py"
  },
  "language_info": {
   "codemirror_mode": {
    "name": "ipython",
    "version": 3
   },
   "file_extension": ".py",
   "mimetype": "text/x-python",
   "name": "python",
   "nbconvert_exporter": "python",
   "pygments_lexer": "ipython3",
   "version": "3.6.10"
  }
 },
 "nbformat": 4,
 "nbformat_minor": 4
}
